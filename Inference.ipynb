{
 "cells": [
  {
   "cell_type": "code",
   "execution_count": 13,
   "id": "8f1b6950",
   "metadata": {},
   "outputs": [],
   "source": [
    "import seaborn as sns\n",
    "import mlflow\n",
    "from sklearn.model_selection import train_test_split\n",
    "import pandas as pd\n",
    "import numpy as np"
   ]
  },
  {
   "cell_type": "code",
   "execution_count": 14,
   "id": "c86122f6",
   "metadata": {},
   "outputs": [],
   "source": [
    "# \"runs:/{run.info.run_id}/{model}\"\n",
    "model_uri = \"runs:/f6bf8c86e4ce442eaa5e0bd30badc421/lrmodel\""
   ]
  },
  {
   "cell_type": "code",
   "execution_count": 15,
   "id": "17bf2145",
   "metadata": {},
   "outputs": [],
   "source": [
    "my_model = mlflow.sklearn.load_model(model_uri)"
   ]
  },
  {
   "cell_type": "code",
   "execution_count": 16,
   "id": "dbcb8438",
   "metadata": {},
   "outputs": [
    {
     "data": {
      "text/html": [
       "<div>\n",
       "<style scoped>\n",
       "    .dataframe tbody tr th:only-of-type {\n",
       "        vertical-align: middle;\n",
       "    }\n",
       "\n",
       "    .dataframe tbody tr th {\n",
       "        vertical-align: top;\n",
       "    }\n",
       "\n",
       "    .dataframe thead th {\n",
       "        text-align: right;\n",
       "    }\n",
       "</style>\n",
       "<table border=\"1\" class=\"dataframe\">\n",
       "  <thead>\n",
       "    <tr style=\"text-align: right;\">\n",
       "      <th></th>\n",
       "      <th>fixed acidity</th>\n",
       "      <th>volatile acidity</th>\n",
       "      <th>citric acid</th>\n",
       "      <th>residual sugar</th>\n",
       "      <th>chlorides</th>\n",
       "      <th>free sulfur dioxide</th>\n",
       "      <th>total sulfur dioxide</th>\n",
       "      <th>density</th>\n",
       "      <th>pH</th>\n",
       "      <th>sulphates</th>\n",
       "      <th>alcohol</th>\n",
       "    </tr>\n",
       "  </thead>\n",
       "  <tbody>\n",
       "    <tr>\n",
       "      <th>1332</th>\n",
       "      <td>7.9</td>\n",
       "      <td>0.16</td>\n",
       "      <td>0.64</td>\n",
       "      <td>17.0</td>\n",
       "      <td>0.050</td>\n",
       "      <td>69.0</td>\n",
       "      <td>210.0</td>\n",
       "      <td>1.0004</td>\n",
       "      <td>3.15</td>\n",
       "      <td>0.51</td>\n",
       "      <td>9.3</td>\n",
       "    </tr>\n",
       "    <tr>\n",
       "      <th>1433</th>\n",
       "      <td>7.1</td>\n",
       "      <td>0.29</td>\n",
       "      <td>0.49</td>\n",
       "      <td>1.2</td>\n",
       "      <td>0.031</td>\n",
       "      <td>32.0</td>\n",
       "      <td>99.0</td>\n",
       "      <td>0.9893</td>\n",
       "      <td>3.07</td>\n",
       "      <td>0.33</td>\n",
       "      <td>12.2</td>\n",
       "    </tr>\n",
       "    <tr>\n",
       "      <th>100</th>\n",
       "      <td>7.4</td>\n",
       "      <td>0.25</td>\n",
       "      <td>0.37</td>\n",
       "      <td>13.5</td>\n",
       "      <td>0.060</td>\n",
       "      <td>52.0</td>\n",
       "      <td>192.0</td>\n",
       "      <td>0.9975</td>\n",
       "      <td>3.00</td>\n",
       "      <td>0.44</td>\n",
       "      <td>9.1</td>\n",
       "    </tr>\n",
       "  </tbody>\n",
       "</table>\n",
       "</div>"
      ],
      "text/plain": [
       "      fixed acidity  volatile acidity  citric acid  residual sugar  chlorides  \\\n",
       "1332            7.9              0.16         0.64            17.0      0.050   \n",
       "1433            7.1              0.29         0.49             1.2      0.031   \n",
       "100             7.4              0.25         0.37            13.5      0.060   \n",
       "\n",
       "      free sulfur dioxide  total sulfur dioxide  density    pH  sulphates  \\\n",
       "1332                 69.0                 210.0   1.0004  3.15       0.51   \n",
       "1433                 32.0                  99.0   0.9893  3.07       0.33   \n",
       "100                  52.0                 192.0   0.9975  3.00       0.44   \n",
       "\n",
       "      alcohol  \n",
       "1332      9.3  \n",
       "1433     12.2  \n",
       "100       9.1  "
      ]
     },
     "execution_count": 16,
     "metadata": {},
     "output_type": "execute_result"
    }
   ],
   "source": [
    "wine_path = \"wine-quality.csv\"\n",
    "data = pd.read_csv(wine_path)\n",
    "train, test = train_test_split(data)\n",
    "test_x = test.drop([\"quality\"], axis=1)\n",
    "test_y = test['quality']\n",
    "test_x[:3]"
   ]
  },
  {
   "cell_type": "code",
   "execution_count": 17,
   "id": "4b0cf6ec",
   "metadata": {},
   "outputs": [
    {
     "data": {
      "text/plain": [
       "array([5.72975894, 6.14383762, 5.66533135])"
      ]
     },
     "execution_count": 17,
     "metadata": {},
     "output_type": "execute_result"
    }
   ],
   "source": [
    "my_model.predict(test_x[:3])"
   ]
  },
  {
   "cell_type": "code",
   "execution_count": 18,
   "id": "beb85d81",
   "metadata": {},
   "outputs": [
    {
     "data": {
      "text/plain": [
       "1332    7\n",
       "1433    6\n",
       "100     5\n",
       "Name: quality, dtype: int64"
      ]
     },
     "execution_count": 18,
     "metadata": {},
     "output_type": "execute_result"
    }
   ],
   "source": [
    "test_y[:3]"
   ]
  },
  {
   "cell_type": "code",
   "execution_count": null,
   "id": "061e5759",
   "metadata": {},
   "outputs": [],
   "source": []
  }
 ],
 "metadata": {
  "kernelspec": {
   "display_name": "Python 3 (ipykernel)",
   "language": "python",
   "name": "python3"
  },
  "language_info": {
   "codemirror_mode": {
    "name": "ipython",
    "version": 3
   },
   "file_extension": ".py",
   "mimetype": "text/x-python",
   "name": "python",
   "nbconvert_exporter": "python",
   "pygments_lexer": "ipython3",
   "version": "3.11.3"
  }
 },
 "nbformat": 4,
 "nbformat_minor": 5
}
